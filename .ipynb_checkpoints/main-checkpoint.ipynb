{
 "cells": [
  {
   "cell_type": "code",
   "execution_count": 2,
   "id": "59a007c7-896c-4ec3-95ae-5a5aa8f03d72",
   "metadata": {},
   "outputs": [],
   "source": [
    "%config IPCompleter.greedy=True\n",
    "\n",
    "import numpy as np\n",
    "import os\n",
    "import cv2 as cv\n",
    "import tensorflow as tf\n",
    "from tensorflow import keras"
   ]
  },
  {
   "cell_type": "code",
   "execution_count": 3,
   "id": "c56bcd74-3cfb-4f05-ad14-94d0dd94c707",
   "metadata": {},
   "outputs": [],
   "source": [
    "datagen = tf.keras.preprocessing.image.ImageDataGenerator(\n",
    "    rotation_range=90,        # Randomly rotate images by up to 30 degrees\n",
    "    width_shift_range=0.2,    # Randomly shift images horizontally by 20%\n",
    "    height_shift_range=0.2,   # Randomly shift images vertically by 20%\n",
    "    shear_range=0.2,          # Shear images\n",
    "    zoom_range=0.2,           # Zoom into images\n",
    "    horizontal_flip=True,     # Flip images horizontally\n",
    "    brightness_range=[0.8, 1.2],  # Randomly adjust brightness\n",
    "    fill_mode='nearest'       # Fill empty pixels with nearest valid value\n",
    ")"
   ]
  },
  {
   "cell_type": "code",
   "execution_count": 5,
   "id": "dbdf7362-6638-4e84-8731-4f8568808d46",
   "metadata": {},
   "outputs": [
    {
     "ename": "KeyboardInterrupt",
     "evalue": "",
     "output_type": "error",
     "traceback": [
      "\u001b[1;31m---------------------------------------------------------------------------\u001b[0m",
      "\u001b[1;31mKeyboardInterrupt\u001b[0m                         Traceback (most recent call last)",
      "Cell \u001b[1;32mIn[5], line 15\u001b[0m\n\u001b[0;32m     12\u001b[0m augmented_images \u001b[38;5;241m=\u001b[39m datagen\u001b[38;5;241m.\u001b[39mflow(cur_img, batch_size\u001b[38;5;241m=\u001b[39m\u001b[38;5;241m1\u001b[39m)\n\u001b[0;32m     14\u001b[0m \u001b[38;5;28;01mfor\u001b[39;00m _ \u001b[38;5;129;01min\u001b[39;00m \u001b[38;5;28mrange\u001b[39m(\u001b[38;5;241m1\u001b[39m):\n\u001b[1;32m---> 15\u001b[0m     augmented_img \u001b[38;5;241m=\u001b[39m \u001b[38;5;28mnext\u001b[39m(augmented_images)[\u001b[38;5;241m0\u001b[39m]\u001b[38;5;241m.\u001b[39mastype(np\u001b[38;5;241m.\u001b[39muint8)\n\u001b[0;32m     16\u001b[0m     img_arr\u001b[38;5;241m.\u001b[39mappend(augmented_img)\n\u001b[0;32m     17\u001b[0m     feature\u001b[38;5;241m.\u001b[39mappend(\u001b[38;5;28mint\u001b[39m(img[\u001b[38;5;241m-\u001b[39m\u001b[38;5;241m6\u001b[39m:\u001b[38;5;241m-\u001b[39m\u001b[38;5;241m5\u001b[39m]))\n",
      "File \u001b[1;32m~\\anaconda3\\Lib\\site-packages\\keras\\src\\legacy\\preprocessing\\image.py:112\u001b[0m, in \u001b[0;36mIterator.__next__\u001b[1;34m(self)\u001b[0m\n\u001b[0;32m    109\u001b[0m     index_array \u001b[38;5;241m=\u001b[39m \u001b[38;5;28mnext\u001b[39m(\u001b[38;5;28mself\u001b[39m\u001b[38;5;241m.\u001b[39mindex_generator)\n\u001b[0;32m    110\u001b[0m \u001b[38;5;66;03m# The transformation of images is not under thread lock\u001b[39;00m\n\u001b[0;32m    111\u001b[0m \u001b[38;5;66;03m# so it can be done in parallel\u001b[39;00m\n\u001b[1;32m--> 112\u001b[0m \u001b[38;5;28;01mreturn\u001b[39;00m \u001b[38;5;28mself\u001b[39m\u001b[38;5;241m.\u001b[39m_get_batches_of_transformed_samples(index_array)\n",
      "File \u001b[1;32m~\\anaconda3\\Lib\\site-packages\\keras\\src\\legacy\\preprocessing\\image.py:654\u001b[0m, in \u001b[0;36mNumpyArrayIterator._get_batches_of_transformed_samples\u001b[1;34m(self, index_array)\u001b[0m\n\u001b[0;32m    652\u001b[0m x \u001b[38;5;241m=\u001b[39m \u001b[38;5;28mself\u001b[39m\u001b[38;5;241m.\u001b[39mx[j]\n\u001b[0;32m    653\u001b[0m params \u001b[38;5;241m=\u001b[39m \u001b[38;5;28mself\u001b[39m\u001b[38;5;241m.\u001b[39mimage_data_generator\u001b[38;5;241m.\u001b[39mget_random_transform(x\u001b[38;5;241m.\u001b[39mshape)\n\u001b[1;32m--> 654\u001b[0m x \u001b[38;5;241m=\u001b[39m \u001b[38;5;28mself\u001b[39m\u001b[38;5;241m.\u001b[39mimage_data_generator\u001b[38;5;241m.\u001b[39mapply_transform(\n\u001b[0;32m    655\u001b[0m     x\u001b[38;5;241m.\u001b[39mastype(\u001b[38;5;28mself\u001b[39m\u001b[38;5;241m.\u001b[39mdtype), params\n\u001b[0;32m    656\u001b[0m )\n\u001b[0;32m    657\u001b[0m x \u001b[38;5;241m=\u001b[39m \u001b[38;5;28mself\u001b[39m\u001b[38;5;241m.\u001b[39mimage_data_generator\u001b[38;5;241m.\u001b[39mstandardize(x)\n\u001b[0;32m    658\u001b[0m batch_x[i] \u001b[38;5;241m=\u001b[39m x\n",
      "File \u001b[1;32m~\\anaconda3\\Lib\\site-packages\\keras\\src\\legacy\\preprocessing\\image.py:1413\u001b[0m, in \u001b[0;36mImageDataGenerator.apply_transform\u001b[1;34m(self, x, transform_parameters)\u001b[0m\n\u001b[0;32m   1410\u001b[0m img_col_axis \u001b[38;5;241m=\u001b[39m \u001b[38;5;28mself\u001b[39m\u001b[38;5;241m.\u001b[39mcol_axis \u001b[38;5;241m-\u001b[39m \u001b[38;5;241m1\u001b[39m\n\u001b[0;32m   1411\u001b[0m img_channel_axis \u001b[38;5;241m=\u001b[39m \u001b[38;5;28mself\u001b[39m\u001b[38;5;241m.\u001b[39mchannel_axis \u001b[38;5;241m-\u001b[39m \u001b[38;5;241m1\u001b[39m\n\u001b[1;32m-> 1413\u001b[0m x \u001b[38;5;241m=\u001b[39m apply_affine_transform(\n\u001b[0;32m   1414\u001b[0m     x,\n\u001b[0;32m   1415\u001b[0m     transform_parameters\u001b[38;5;241m.\u001b[39mget(\u001b[38;5;124m\"\u001b[39m\u001b[38;5;124mtheta\u001b[39m\u001b[38;5;124m\"\u001b[39m, \u001b[38;5;241m0\u001b[39m),\n\u001b[0;32m   1416\u001b[0m     transform_parameters\u001b[38;5;241m.\u001b[39mget(\u001b[38;5;124m\"\u001b[39m\u001b[38;5;124mtx\u001b[39m\u001b[38;5;124m\"\u001b[39m, \u001b[38;5;241m0\u001b[39m),\n\u001b[0;32m   1417\u001b[0m     transform_parameters\u001b[38;5;241m.\u001b[39mget(\u001b[38;5;124m\"\u001b[39m\u001b[38;5;124mty\u001b[39m\u001b[38;5;124m\"\u001b[39m, \u001b[38;5;241m0\u001b[39m),\n\u001b[0;32m   1418\u001b[0m     transform_parameters\u001b[38;5;241m.\u001b[39mget(\u001b[38;5;124m\"\u001b[39m\u001b[38;5;124mshear\u001b[39m\u001b[38;5;124m\"\u001b[39m, \u001b[38;5;241m0\u001b[39m),\n\u001b[0;32m   1419\u001b[0m     transform_parameters\u001b[38;5;241m.\u001b[39mget(\u001b[38;5;124m\"\u001b[39m\u001b[38;5;124mzx\u001b[39m\u001b[38;5;124m\"\u001b[39m, \u001b[38;5;241m1\u001b[39m),\n\u001b[0;32m   1420\u001b[0m     transform_parameters\u001b[38;5;241m.\u001b[39mget(\u001b[38;5;124m\"\u001b[39m\u001b[38;5;124mzy\u001b[39m\u001b[38;5;124m\"\u001b[39m, \u001b[38;5;241m1\u001b[39m),\n\u001b[0;32m   1421\u001b[0m     row_axis\u001b[38;5;241m=\u001b[39mimg_row_axis,\n\u001b[0;32m   1422\u001b[0m     col_axis\u001b[38;5;241m=\u001b[39mimg_col_axis,\n\u001b[0;32m   1423\u001b[0m     channel_axis\u001b[38;5;241m=\u001b[39mimg_channel_axis,\n\u001b[0;32m   1424\u001b[0m     fill_mode\u001b[38;5;241m=\u001b[39m\u001b[38;5;28mself\u001b[39m\u001b[38;5;241m.\u001b[39mfill_mode,\n\u001b[0;32m   1425\u001b[0m     cval\u001b[38;5;241m=\u001b[39m\u001b[38;5;28mself\u001b[39m\u001b[38;5;241m.\u001b[39mcval,\n\u001b[0;32m   1426\u001b[0m     order\u001b[38;5;241m=\u001b[39m\u001b[38;5;28mself\u001b[39m\u001b[38;5;241m.\u001b[39minterpolation_order,\n\u001b[0;32m   1427\u001b[0m )\n\u001b[0;32m   1429\u001b[0m \u001b[38;5;28;01mif\u001b[39;00m transform_parameters\u001b[38;5;241m.\u001b[39mget(\u001b[38;5;124m\"\u001b[39m\u001b[38;5;124mchannel_shift_intensity\u001b[39m\u001b[38;5;124m\"\u001b[39m) \u001b[38;5;129;01mis\u001b[39;00m \u001b[38;5;129;01mnot\u001b[39;00m \u001b[38;5;28;01mNone\u001b[39;00m:\n\u001b[0;32m   1430\u001b[0m     x \u001b[38;5;241m=\u001b[39m apply_channel_shift(\n\u001b[0;32m   1431\u001b[0m         x,\n\u001b[0;32m   1432\u001b[0m         transform_parameters[\u001b[38;5;124m\"\u001b[39m\u001b[38;5;124mchannel_shift_intensity\u001b[39m\u001b[38;5;124m\"\u001b[39m],\n\u001b[0;32m   1433\u001b[0m         img_channel_axis,\n\u001b[0;32m   1434\u001b[0m     )\n",
      "File \u001b[1;32m~\\anaconda3\\Lib\\site-packages\\keras\\src\\legacy\\preprocessing\\image.py:1879\u001b[0m, in \u001b[0;36mapply_affine_transform\u001b[1;34m(x, theta, tx, ty, shear, zx, zy, row_axis, col_axis, channel_axis, fill_mode, cval, order)\u001b[0m\n\u001b[0;32m   1876\u001b[0m final_affine_matrix \u001b[38;5;241m=\u001b[39m transform_matrix[:\u001b[38;5;241m2\u001b[39m, :\u001b[38;5;241m2\u001b[39m]\n\u001b[0;32m   1877\u001b[0m final_offset \u001b[38;5;241m=\u001b[39m transform_matrix[:\u001b[38;5;241m2\u001b[39m, \u001b[38;5;241m2\u001b[39m]\n\u001b[1;32m-> 1879\u001b[0m channel_images \u001b[38;5;241m=\u001b[39m [\n\u001b[0;32m   1880\u001b[0m     scipy\u001b[38;5;241m.\u001b[39mndimage\u001b[38;5;241m.\u001b[39minterpolation\u001b[38;5;241m.\u001b[39maffine_transform(\n\u001b[0;32m   1881\u001b[0m         x_channel,\n\u001b[0;32m   1882\u001b[0m         final_affine_matrix,\n\u001b[0;32m   1883\u001b[0m         final_offset,\n\u001b[0;32m   1884\u001b[0m         order\u001b[38;5;241m=\u001b[39morder,\n\u001b[0;32m   1885\u001b[0m         mode\u001b[38;5;241m=\u001b[39mfill_mode,\n\u001b[0;32m   1886\u001b[0m         cval\u001b[38;5;241m=\u001b[39mcval,\n\u001b[0;32m   1887\u001b[0m     )\n\u001b[0;32m   1888\u001b[0m     \u001b[38;5;28;01mfor\u001b[39;00m x_channel \u001b[38;5;129;01min\u001b[39;00m x\n\u001b[0;32m   1889\u001b[0m ]\n\u001b[0;32m   1890\u001b[0m x \u001b[38;5;241m=\u001b[39m np\u001b[38;5;241m.\u001b[39mstack(channel_images, axis\u001b[38;5;241m=\u001b[39m\u001b[38;5;241m0\u001b[39m)\n\u001b[0;32m   1891\u001b[0m x \u001b[38;5;241m=\u001b[39m np\u001b[38;5;241m.\u001b[39mrollaxis(x, \u001b[38;5;241m0\u001b[39m, channel_axis \u001b[38;5;241m+\u001b[39m \u001b[38;5;241m1\u001b[39m)\n",
      "File \u001b[1;32m~\\anaconda3\\Lib\\site-packages\\keras\\src\\legacy\\preprocessing\\image.py:1880\u001b[0m, in \u001b[0;36m<listcomp>\u001b[1;34m(.0)\u001b[0m\n\u001b[0;32m   1876\u001b[0m final_affine_matrix \u001b[38;5;241m=\u001b[39m transform_matrix[:\u001b[38;5;241m2\u001b[39m, :\u001b[38;5;241m2\u001b[39m]\n\u001b[0;32m   1877\u001b[0m final_offset \u001b[38;5;241m=\u001b[39m transform_matrix[:\u001b[38;5;241m2\u001b[39m, \u001b[38;5;241m2\u001b[39m]\n\u001b[0;32m   1879\u001b[0m channel_images \u001b[38;5;241m=\u001b[39m [\n\u001b[1;32m-> 1880\u001b[0m     scipy\u001b[38;5;241m.\u001b[39mndimage\u001b[38;5;241m.\u001b[39minterpolation\u001b[38;5;241m.\u001b[39maffine_transform(\n\u001b[0;32m   1881\u001b[0m         x_channel,\n\u001b[0;32m   1882\u001b[0m         final_affine_matrix,\n\u001b[0;32m   1883\u001b[0m         final_offset,\n\u001b[0;32m   1884\u001b[0m         order\u001b[38;5;241m=\u001b[39morder,\n\u001b[0;32m   1885\u001b[0m         mode\u001b[38;5;241m=\u001b[39mfill_mode,\n\u001b[0;32m   1886\u001b[0m         cval\u001b[38;5;241m=\u001b[39mcval,\n\u001b[0;32m   1887\u001b[0m     )\n\u001b[0;32m   1888\u001b[0m     \u001b[38;5;28;01mfor\u001b[39;00m x_channel \u001b[38;5;129;01min\u001b[39;00m x\n\u001b[0;32m   1889\u001b[0m ]\n\u001b[0;32m   1890\u001b[0m x \u001b[38;5;241m=\u001b[39m np\u001b[38;5;241m.\u001b[39mstack(channel_images, axis\u001b[38;5;241m=\u001b[39m\u001b[38;5;241m0\u001b[39m)\n\u001b[0;32m   1891\u001b[0m x \u001b[38;5;241m=\u001b[39m np\u001b[38;5;241m.\u001b[39mrollaxis(x, \u001b[38;5;241m0\u001b[39m, channel_axis \u001b[38;5;241m+\u001b[39m \u001b[38;5;241m1\u001b[39m)\n",
      "File \u001b[1;32m~\\anaconda3\\Lib\\site-packages\\scipy\\ndimage\\_interpolation.py:614\u001b[0m, in \u001b[0;36maffine_transform\u001b[1;34m(input, matrix, offset, output_shape, output, order, mode, cval, prefilter)\u001b[0m\n\u001b[0;32m    611\u001b[0m     _nd_image\u001b[38;5;241m.\u001b[39mzoom_shift(filtered, matrix, offset\u001b[38;5;241m/\u001b[39mmatrix, output, order,\n\u001b[0;32m    612\u001b[0m                          mode, cval, npad, \u001b[38;5;28;01mFalse\u001b[39;00m)\n\u001b[0;32m    613\u001b[0m \u001b[38;5;28;01melse\u001b[39;00m:\n\u001b[1;32m--> 614\u001b[0m     _nd_image\u001b[38;5;241m.\u001b[39mgeometric_transform(filtered, \u001b[38;5;28;01mNone\u001b[39;00m, \u001b[38;5;28;01mNone\u001b[39;00m, matrix, offset,\n\u001b[0;32m    615\u001b[0m                                   output, order, mode, cval, npad, \u001b[38;5;28;01mNone\u001b[39;00m,\n\u001b[0;32m    616\u001b[0m                                   \u001b[38;5;28;01mNone\u001b[39;00m)\n\u001b[0;32m    617\u001b[0m \u001b[38;5;28;01mreturn\u001b[39;00m output\n",
      "\u001b[1;31mKeyboardInterrupt\u001b[0m: "
     ]
    }
   ],
   "source": [
    "__dirname = r\"train\"\n",
    "\n",
    "img_arr = []\n",
    "feature = []\n",
    "\n",
    "for img in os.listdir(__dirname):\n",
    "    cur_img = cv.imread(os.path.join(__dirname,img))\n",
    "    cur_img = cv.resize(cur_img,(224,224))\n",
    "    cur_img = np.expand_dims(cur_img, axis=0)\n",
    "\n",
    "    # Apply augmentation\n",
    "    augmented_images = datagen.flow(cur_img, batch_size=1)\n",
    "    \n",
    "    for _ in range(1):\n",
    "        augmented_img = next(augmented_images)[0].astype(np.uint8)\n",
    "        img_arr.append(augmented_img)\n",
    "        feature.append(int(img[-6:-5]))"
   ]
  },
  {
   "cell_type": "code",
   "execution_count": null,
   "id": "4c61d8a0-377d-42ab-b992-f1ac48544150",
   "metadata": {},
   "outputs": [],
   "source": [
    "img_arr = np.array(img_arr)\n",
    "feature = np.array(feature)"
   ]
  },
  {
   "cell_type": "code",
   "execution_count": null,
   "id": "d8babc32-1316-4c9f-8ac5-071b89dd9f16",
   "metadata": {},
   "outputs": [],
   "source": [
    "img_arr.shape,feature.shape"
   ]
  },
  {
   "cell_type": "code",
   "execution_count": null,
   "id": "ea60a437-7ab3-4cb2-949a-3982ddf63d12",
   "metadata": {},
   "outputs": [],
   "source": [
    "index = 17\n",
    "\n",
    "cv.imshow(\"some\",img_arr[index])\n",
    "cv.waitKey(0)"
   ]
  },
  {
   "cell_type": "code",
   "execution_count": null,
   "id": "79961f3b-e09a-45b0-abdf-aa9997ac911b",
   "metadata": {},
   "outputs": [],
   "source": [
    "cv.destroyAllWindows()\n"
   ]
  },
  {
   "cell_type": "code",
   "execution_count": null,
   "id": "13c3b3ae-b931-4f3a-b58d-ec609e3451e7",
   "metadata": {},
   "outputs": [],
   "source": [
    "index = 65\n",
    "\n",
    "def convert(index):\n",
    "    img = img_arr[index]\n",
    "    # Apply thresholding\n",
    "    img = cv.cvtColor(img, cv.COLOR_BGR2GRAY)\n",
    "    thresh_img = cv.threshold(img, 110, 255, cv.THRESH_BINARY)[1]\n",
    "    return thresh_img\n"
   ]
  },
  {
   "cell_type": "code",
   "execution_count": null,
   "id": "b0624e91-0eff-4b77-a538-6638c512e838",
   "metadata": {},
   "outputs": [],
   "source": [
    "new_img_arr = []\n",
    "for i in range(0,len(img_arr)):\n",
    "    new_img_arr.append(convert(i))"
   ]
  },
  {
   "cell_type": "code",
   "execution_count": null,
   "id": "105d725e-1e15-46c7-a546-85eb21e6324a",
   "metadata": {},
   "outputs": [],
   "source": [
    "print(len(new_img_arr))"
   ]
  },
  {
   "cell_type": "code",
   "execution_count": null,
   "id": "643761da-8794-419b-ba6b-9bf89c879460",
   "metadata": {},
   "outputs": [],
   "source": [
    "img_arr = new_img_arr\n",
    "img_arr = np.array(img_arr)"
   ]
  },
  {
   "cell_type": "code",
   "execution_count": null,
   "id": "2560e7c0-f635-4036-8769-3d8f3d52c6cf",
   "metadata": {},
   "outputs": [],
   "source": [
    "from sklearn.model_selection import train_test_split"
   ]
  },
  {
   "cell_type": "code",
   "execution_count": null,
   "id": "daa71615-925e-40e7-8071-e9f85b3c5095",
   "metadata": {},
   "outputs": [],
   "source": [
    "img_arr,x_val,feature,y_val = train_test_split(img_arr,feature,train_size=0.7)"
   ]
  },
  {
   "cell_type": "code",
   "execution_count": null,
   "id": "2dd79e46-5c61-4092-a547-dbd51c1b73ef",
   "metadata": {},
   "outputs": [],
   "source": [
    "inp_shp = img_arr.shape[1:]+(1,)\n",
    "\n",
    "model = keras.Sequential()\n",
    "model.add(keras.layers.Conv2D(128,(3,3), activation=\"relu\",input_shape=inp_shp))\n",
    "model.add(keras.layers.MaxPooling2D((2,2)))\n",
    "model.add(keras.layers.Conv2D(64,(3,3),activation=\"relu\"))\n",
    "model.add(keras.layers.MaxPooling2D((2,2)))\n",
    "model.add(keras.layers.Conv2D(32,(3,3),activation=\"relu\"))\n",
    "model.add(keras.layers.MaxPooling2D((2,2)))\n",
    "\n",
    "model.add(keras.layers.Flatten())\n",
    "\n",
    "model.add(keras.layers.Dense(128,activation=\"relu\"))\n",
    "model.add(keras.layers.Dense(64, activation=\"relu\"))\n",
    "model.add(keras.layers.Dense(32,activation='relu'))\n",
    "model.add(keras.layers.Dense(np.unique(feature).shape[0], activation=\"softmax\"))"
   ]
  },
  {
   "cell_type": "code",
   "execution_count": null,
   "id": "8f0b1416-1b90-45c3-9e1f-5223095d8ba7",
   "metadata": {},
   "outputs": [],
   "source": [
    "model.compile(\n",
    "    optimizer = \"adam\",\n",
    "    loss = \"sparse_categorical_crossentropy\",\n",
    "    metrics=['accuracy']\n",
    ")"
   ]
  },
  {
   "cell_type": "code",
   "execution_count": null,
   "id": "91c26a1d-b292-4159-b7c4-4f92694b04f3",
   "metadata": {},
   "outputs": [],
   "source": [
    "model.fit(img_arr, feature, epochs=10, validation_data = (x_val,y_val))"
   ]
  },
  {
   "cell_type": "code",
   "execution_count": null,
   "id": "2a490f9d-f04a-4a28-8284-08b51bd8b8ee",
   "metadata": {},
   "outputs": [],
   "source": [
    "model.save(\"finger.keras\")"
   ]
  },
  {
   "cell_type": "code",
   "execution_count": null,
   "id": "4a162e73-b64c-42a4-9b83-0600e425646e",
   "metadata": {},
   "outputs": [],
   "source": [
    "__dirname = \"train\"\n",
    "os.path.exists(__dirname)"
   ]
  },
  {
   "cell_type": "code",
   "execution_count": null,
   "id": "ba93992a-335a-4b0d-bc0c-43c314f65ddb",
   "metadata": {},
   "outputs": [],
   "source": [
    "img_arr = []\n",
    "feature = []"
   ]
  },
  {
   "cell_type": "code",
   "execution_count": null,
   "id": "f0445a3e-d1c8-45ed-a1dc-b23eb6b04576",
   "metadata": {},
   "outputs": [],
   "source": [
    "for img in os.listdir(__dirname):\n",
    "    cur_img = cv.imread(os.path.join(__dirname,img))\n",
    "    cur_img = cv.resize(cur_img,(224,224))\n",
    "    cur_img = np.expand_dims(cur_img, axis=0)\n",
    "\n",
    "    # Apply augmentation\n",
    "    augmented_images = datagen.flow(cur_img, batch_size=1)\n",
    "    \n",
    "    for _ in range(1):\n",
    "        augmented_img = next(augmented_images)[0].astype(np.uint8)\n",
    "        img_arr.append(augmented_img)\n",
    "        feature.append(int(img[-6:-5]))"
   ]
  },
  {
   "cell_type": "code",
   "execution_count": null,
   "id": "59b6399f-bfe0-4e60-9297-b10a5436fcd7",
   "metadata": {},
   "outputs": [],
   "source": [
    "new_img_arr = []\n",
    "for i in range(0,len(img_arr)):\n",
    "    new_img_arr.append(convert(i))"
   ]
  },
  {
   "cell_type": "code",
   "execution_count": null,
   "id": "81a07fb8-df46-404b-9893-5343b43dbd7c",
   "metadata": {},
   "outputs": [],
   "source": [
    "img_arr = new_img_arr\n",
    "img_arr = np.array(img_arr)"
   ]
  },
  {
   "cell_type": "code",
   "execution_count": null,
   "id": "0ba295c7-4624-46fe-87e5-c710d19a1ccc",
   "metadata": {},
   "outputs": [],
   "source": [
    "y_pred = np.argmax(model.predict(img_arr),axis=1)\n",
    "y_true = feature\n",
    "print(\"accuracy = \",np.mean(y_pred == y_true))"
   ]
  },
  {
   "cell_type": "code",
   "execution_count": null,
   "id": "0382546d-e886-4966-9fd6-386bf7938954",
   "metadata": {},
   "outputs": [],
   "source": [
    "def get_random_image(__dirname):\n",
    "    term = int(np.random.rand()*len(os.listdir(__dirname)))\n",
    "    img = cv.imread(os.path.join(__dirname,os.listdir(__dirname)[term]))\n",
    "    print(os.listdir(__dirname)[term][-6:-5])\n",
    "    img = cv.resize(img, (224,224))\n",
    "    img = cv.cvtColor(img, cv.COLOR_BGR2GRAY)\n",
    "    img = cv.threshold(img, 110, 255, cv.THRESH_BINARY)[1]\n",
    "    # img = np.expand_dims(img, axis=0)\n",
    "    return img"
   ]
  },
  {
   "cell_type": "code",
   "execution_count": null,
   "id": "b1621bce-4182-4fc9-845f-ef3c3951cf84",
   "metadata": {},
   "outputs": [],
   "source": [
    "cv.imshow(\"some\",get_random_image(__dirname))"
   ]
  },
  {
   "cell_type": "code",
   "execution_count": null,
   "id": "449de9f4-a9ce-47f0-b92e-b4e7b29e1e9b",
   "metadata": {},
   "outputs": [],
   "source": []
  },
  {
   "cell_type": "code",
   "execution_count": null,
   "id": "64827137-1516-41be-9a72-57b7bea7f830",
   "metadata": {},
   "outputs": [],
   "source": []
  }
 ],
 "metadata": {
  "kernelspec": {
   "display_name": "Python 3 (ipykernel)",
   "language": "python",
   "name": "python3"
  },
  "language_info": {
   "codemirror_mode": {
    "name": "ipython",
    "version": 3
   },
   "file_extension": ".py",
   "mimetype": "text/x-python",
   "name": "python",
   "nbconvert_exporter": "python",
   "pygments_lexer": "ipython3",
   "version": "3.11.7"
  }
 },
 "nbformat": 4,
 "nbformat_minor": 5
}
