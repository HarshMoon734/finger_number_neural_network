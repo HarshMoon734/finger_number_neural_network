{
 "cells": [
  {
   "cell_type": "code",
   "execution_count": 6,
   "id": "59a007c7-896c-4ec3-95ae-5a5aa8f03d72",
   "metadata": {},
   "outputs": [],
   "source": [
    "%config IPCompleter.greedy=True\n",
    "\n",
    "import numpy as np\n",
    "import os\n",
    "import cv2 as cv\n",
    "import tensorflow as tf\n",
    "from tensorflow import keras"
   ]
  },
  {
   "cell_type": "code",
   "execution_count": 7,
   "id": "c56bcd74-3cfb-4f05-ad14-94d0dd94c707",
   "metadata": {},
   "outputs": [],
   "source": [
    "datagen = tf.keras.preprocessing.image.ImageDataGenerator(\n",
    "    rotation_range=90,        # Randomly rotate images by up to 30 degrees\n",
    "    width_shift_range=0.2,    # Randomly shift images horizontally by 20%\n",
    "    height_shift_range=0.2,   # Randomly shift images vertically by 20%\n",
    "    shear_range=0.2,          # Shear images\n",
    "    zoom_range=0.2,           # Zoom into images\n",
    "    horizontal_flip=True,     # Flip images horizontally\n",
    "    brightness_range=[0.8, 1.2],  # Randomly adjust brightness\n",
    "    fill_mode='nearest'       # Fill empty pixels with nearest valid value\n",
    ")"
   ]
  },
  {
   "cell_type": "code",
   "execution_count": 8,
   "id": "dbdf7362-6638-4e84-8731-4f8568808d46",
   "metadata": {},
   "outputs": [],
   "source": [
    "__dirname = r\"train\"\n",
    "\n",
    "img_arr = []\n",
    "feature = []\n",
    "\n",
    "for img in os.listdir(__dirname):\n",
    "    cur_img = cv.imread(os.path.join(__dirname,img))\n",
    "    cur_img = cv.resize(cur_img,(224,224))\n",
    "    cur_img = np.expand_dims(cur_img, axis=0)\n",
    "\n",
    "    # Apply augmentation\n",
    "    augmented_images = datagen.flow(cur_img, batch_size=1)\n",
    "    \n",
    "    for _ in range(1):\n",
    "        augmented_img = next(augmented_images)[0].astype(np.uint8)\n",
    "        img_arr.append(augmented_img)\n",
    "        feature.append(int(img[-6:-5]))"
   ]
  },
  {
   "cell_type": "code",
   "execution_count": 9,
   "id": "4c61d8a0-377d-42ab-b992-f1ac48544150",
   "metadata": {},
   "outputs": [],
   "source": [
    "img_arr = np.array(img_arr)\n",
    "feature = np.array(feature)"
   ]
  },
  {
   "cell_type": "code",
   "execution_count": 10,
   "id": "d8babc32-1316-4c9f-8ac5-071b89dd9f16",
   "metadata": {},
   "outputs": [
    {
     "data": {
      "text/plain": [
       "((18000, 224, 224, 3), (18000,))"
      ]
     },
     "execution_count": 10,
     "metadata": {},
     "output_type": "execute_result"
    }
   ],
   "source": [
    "img_arr.shape,feature.shape"
   ]
  },
  {
   "cell_type": "code",
   "execution_count": null,
   "id": "ea60a437-7ab3-4cb2-949a-3982ddf63d12",
   "metadata": {},
   "outputs": [],
   "source": [
    "index = 17\n",
    "\n",
    "cv.imshow(\"some\",img_arr[index])\n",
    "cv.waitKey(0)"
   ]
  },
  {
   "cell_type": "code",
   "execution_count": null,
   "id": "79961f3b-e09a-45b0-abdf-aa9997ac911b",
   "metadata": {},
   "outputs": [],
   "source": [
    "cv.destroyAllWindows()\n"
   ]
  },
  {
   "cell_type": "code",
   "execution_count": 11,
   "id": "13c3b3ae-b931-4f3a-b58d-ec609e3451e7",
   "metadata": {},
   "outputs": [],
   "source": [
    "index = 65\n",
    "\n",
    "def convert(index):\n",
    "    img = img_arr[index]\n",
    "    # Apply thresholding\n",
    "    img = cv.cvtColor(img, cv.COLOR_BGR2GRAY)\n",
    "    thresh_img = cv.threshold(img, 110, 255, cv.THRESH_BINARY)[1]\n",
    "    return thresh_img\n"
   ]
  },
  {
   "cell_type": "code",
   "execution_count": 12,
   "id": "b0624e91-0eff-4b77-a538-6638c512e838",
   "metadata": {},
   "outputs": [],
   "source": [
    "new_img_arr = []\n",
    "for i in range(0,len(img_arr)):\n",
    "    new_img_arr.append(convert(i))"
   ]
  },
  {
   "cell_type": "code",
   "execution_count": 13,
   "id": "105d725e-1e15-46c7-a546-85eb21e6324a",
   "metadata": {},
   "outputs": [
    {
     "name": "stdout",
     "output_type": "stream",
     "text": [
      "18000\n"
     ]
    }
   ],
   "source": [
    "print(len(new_img_arr))"
   ]
  },
  {
   "cell_type": "code",
   "execution_count": 14,
   "id": "643761da-8794-419b-ba6b-9bf89c879460",
   "metadata": {},
   "outputs": [],
   "source": [
    "img_arr = new_img_arr\n",
    "img_arr = np.array(img_arr)"
   ]
  },
  {
   "cell_type": "code",
   "execution_count": 15,
   "id": "2560e7c0-f635-4036-8769-3d8f3d52c6cf",
   "metadata": {},
   "outputs": [],
   "source": [
    "from sklearn.model_selection import train_test_split"
   ]
  },
  {
   "cell_type": "code",
   "execution_count": 16,
   "id": "daa71615-925e-40e7-8071-e9f85b3c5095",
   "metadata": {},
   "outputs": [],
   "source": [
    "img_arr,x_val,feature,y_val = train_test_split(img_arr,feature,train_size=0.7)"
   ]
  },
  {
   "cell_type": "code",
   "execution_count": 17,
   "id": "2dd79e46-5c61-4092-a547-dbd51c1b73ef",
   "metadata": {},
   "outputs": [
    {
     "name": "stderr",
     "output_type": "stream",
     "text": [
      "C:\\Users\\Harsh\\anaconda3\\Lib\\site-packages\\keras\\src\\layers\\convolutional\\base_conv.py:107: UserWarning: Do not pass an `input_shape`/`input_dim` argument to a layer. When using Sequential models, prefer using an `Input(shape)` object as the first layer in the model instead.\n",
      "  super().__init__(activity_regularizer=activity_regularizer, **kwargs)\n"
     ]
    }
   ],
   "source": [
    "inp_shp = img_arr.shape[1:]+(1,)\n",
    "\n",
    "model = keras.Sequential()\n",
    "model.add(keras.layers.Conv2D(128,(3,3), activation=\"relu\",input_shape=inp_shp))\n",
    "model.add(keras.layers.MaxPooling2D((2,2)))\n",
    "model.add(keras.layers.Conv2D(64,(3,3),activation=\"relu\"))\n",
    "model.add(keras.layers.MaxPooling2D((2,2)))\n",
    "model.add(keras.layers.Conv2D(32,(3,3),activation=\"relu\"))\n",
    "model.add(keras.layers.MaxPooling2D((2,2)))\n",
    "\n",
    "model.add(keras.layers.Flatten())\n",
    "\n",
    "model.add(keras.layers.Dense(128,activation=\"relu\"))\n",
    "model.add(keras.layers.Dense(64, activation=\"relu\"))\n",
    "model.add(keras.layers.Dense(32,activation='relu'))\n",
    "model.add(keras.layers.Dense(np.unique(feature).shape[0], activation=\"softmax\"))"
   ]
  },
  {
   "cell_type": "code",
   "execution_count": 18,
   "id": "8f0b1416-1b90-45c3-9e1f-5223095d8ba7",
   "metadata": {},
   "outputs": [],
   "source": [
    "model.compile(\n",
    "    optimizer = \"adam\",\n",
    "    loss = \"sparse_categorical_crossentropy\",\n",
    "    metrics=['accuracy']\n",
    ")"
   ]
  },
  {
   "cell_type": "code",
   "execution_count": null,
   "id": "91c26a1d-b292-4159-b7c4-4f92694b04f3",
   "metadata": {},
   "outputs": [
    {
     "name": "stdout",
     "output_type": "stream",
     "text": [
      "Epoch 1/10\n",
      "\u001b[1m394/394\u001b[0m \u001b[32m━━━━━━━━━━━━━━━━━━━━\u001b[0m\u001b[37m\u001b[0m \u001b[1m937s\u001b[0m 2s/step - accuracy: 0.3734 - loss: 1.7939 - val_accuracy: 0.6144 - val_loss: 0.8866\n",
      "Epoch 2/10\n",
      "\u001b[1m298/394\u001b[0m \u001b[32m━━━━━━━━━━━━━━━\u001b[0m\u001b[37m━━━━━\u001b[0m \u001b[1m3:27\u001b[0m 2s/step - accuracy: 0.7385 - loss: 0.6628"
     ]
    }
   ],
   "source": [
    "model.fit(img_arr, feature, epochs=10, validation_data = (x_val,y_val))"
   ]
  },
  {
   "cell_type": "code",
   "execution_count": null,
   "id": "2a490f9d-f04a-4a28-8284-08b51bd8b8ee",
   "metadata": {},
   "outputs": [],
   "source": [
    "model.save(\"finger_2.keras\")"
   ]
  },
  {
   "cell_type": "code",
   "execution_count": null,
   "id": "4a162e73-b64c-42a4-9b83-0600e425646e",
   "metadata": {},
   "outputs": [],
   "source": []
  },
  {
   "cell_type": "code",
   "execution_count": null,
   "id": "ba93992a-335a-4b0d-bc0c-43c314f65ddb",
   "metadata": {},
   "outputs": [],
   "source": []
  },
  {
   "cell_type": "code",
   "execution_count": null,
   "id": "f0445a3e-d1c8-45ed-a1dc-b23eb6b04576",
   "metadata": {},
   "outputs": [],
   "source": []
  },
  {
   "cell_type": "code",
   "execution_count": null,
   "id": "59b6399f-bfe0-4e60-9297-b10a5436fcd7",
   "metadata": {},
   "outputs": [],
   "source": []
  },
  {
   "cell_type": "code",
   "execution_count": null,
   "id": "81a07fb8-df46-404b-9893-5343b43dbd7c",
   "metadata": {},
   "outputs": [],
   "source": []
  },
  {
   "cell_type": "code",
   "execution_count": null,
   "id": "0ba295c7-4624-46fe-87e5-c710d19a1ccc",
   "metadata": {},
   "outputs": [],
   "source": []
  },
  {
   "cell_type": "code",
   "execution_count": null,
   "id": "0382546d-e886-4966-9fd6-386bf7938954",
   "metadata": {},
   "outputs": [],
   "source": []
  },
  {
   "cell_type": "code",
   "execution_count": null,
   "id": "b1621bce-4182-4fc9-845f-ef3c3951cf84",
   "metadata": {},
   "outputs": [],
   "source": []
  },
  {
   "cell_type": "code",
   "execution_count": null,
   "id": "449de9f4-a9ce-47f0-b92e-b4e7b29e1e9b",
   "metadata": {},
   "outputs": [],
   "source": []
  },
  {
   "cell_type": "code",
   "execution_count": null,
   "id": "64827137-1516-41be-9a72-57b7bea7f830",
   "metadata": {},
   "outputs": [],
   "source": []
  }
 ],
 "metadata": {
  "kernelspec": {
   "display_name": "Python 3 (ipykernel)",
   "language": "python",
   "name": "python3"
  },
  "language_info": {
   "codemirror_mode": {
    "name": "ipython",
    "version": 3
   },
   "file_extension": ".py",
   "mimetype": "text/x-python",
   "name": "python",
   "nbconvert_exporter": "python",
   "pygments_lexer": "ipython3",
   "version": "3.11.7"
  }
 },
 "nbformat": 4,
 "nbformat_minor": 5
}
